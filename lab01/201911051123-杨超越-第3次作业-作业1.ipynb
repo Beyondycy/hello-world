{
 "cells": [
  {
   "cell_type": "markdown",
   "metadata": {},
   "source": [
    "# <center>实验报告</center>\n",
    "## 问题描述\n",
    "  编写函数，接收一个偶数，输出两个素数，这两个素数之和等于原来的偶数。如果有两组以上，则全部输出（要求不重复）。\n",
    "## 解题思路\n",
    "  * 编写一个函数去测试一个数是否为素数，若为则返回1，不为则返回2\n",
    "  * 编写一个函数去测试一个数的所有的相加等于该数的数组对，返回数组对中两个数均为素数的情况  \n",
    "\n",
    "## 算法运行  \n",
    "   ### 测试素数函数  \n",
    "   * 流程图：https://raw.githubusercontent.com/Beyondycy/hello-world/main/%E6%9C%AA%E5%91%BD%E5%90%8D%E6%96%87%E4%BB%B6%20(2).jpg  \n",
    "   ### 主函数  \n",
    "   * 输入一个数n（为偶数）\n",
    "   * 形成待检测的n/2组数对\n",
    "   * 对每个数对进行中的两个数进行测试素数\n",
    "   * 当该数对中的两个数均为素数时进行记录\n",
    "   * 依次对所有需检测数对检测并记录\n",
    "   * 最终输出记录结果\n",
    "## 程序运行结果\n",
    "   * 对judgepr的测试结果：\n",
    "     0 1\n",
    "   * 对50的测试结果：\n",
    "  [[3, 47], [7, 43], [13, 37], [19, 31]]  \n",
    "  \n",
    "## 列出涉及到的Python知识点  \n",
    "  * 定义函数的方法：  \n",
    "   def function(a,b,..):  \n",
    "   return  \n",
    "  * for i in range(a,b)方法使i依次遍历区间[a,b-1]内的数字  \n",
    "  * input函数所接受的为字符串类型，通过强制转化为int类型才能输入到主函数中  \n",
    "  * deepcopy函数能够将地址和值完全进行复制，而利用append只能将相应的变量地址进行存储\n",
    "\n",
    "\n"
   ]
  },
  {
   "cell_type": "code",
   "execution_count": 1,
   "metadata": {},
   "outputs": [
    {
     "name": "stdout",
     "output_type": "stream",
     "text": [
      "0 1\n"
     ]
    }
   ],
   "source": [
    "import copy\n",
    "#返回1，则是质数 ，返回2，则为非质数\n",
    "def judgepr(a):\n",
    "    b = 1\n",
    "    if a<= 2: return 0\n",
    "    for i in range(2,a-1):\n",
    "       if a%i == 0:b = 0; break;\n",
    "    return b\n",
    "print(judgepr(99),judgepr(17))  #对函数进行测试"
   ]
  },
  {
   "cell_type": "code",
   "execution_count": 5,
   "metadata": {},
   "outputs": [
    {
     "name": "stdout",
     "output_type": "stream",
     "text": [
      "请输入一个数:\n",
      "20\n",
      "其结果为\n",
      "[[3, 17], [7, 13]]\n"
     ]
    }
   ],
   "source": [
    "def main_test(a):\n",
    "    b = [] #存储最终结果\n",
    "    if a%2 ==1: print('输入错误') \n",
    "    for i in range(1,int(a/2)+1):\n",
    "        k = [] #临时存储\n",
    "        if judgepr(i) and judgepr(a -i):\n",
    "            k.append(i)\n",
    "            k.append(a-i)\n",
    "            tem = copy.deepcopy(k)\n",
    "            b.append(tem)\n",
    "            k.clear()\n",
    "    return b\n",
    "print('请输入一个数:')\n",
    "a = int(input())\n",
    "c = main_test(a)\n",
    "print('其结果为')\n",
    "print(c)"
   ]
  }
 ],
 "metadata": {
  "kernelspec": {
   "display_name": "Python 3 (ipykernel)",
   "language": "python",
   "name": "python3"
  },
  "language_info": {
   "codemirror_mode": {
    "name": "ipython",
    "version": 3
   },
   "file_extension": ".py",
   "mimetype": "text/x-python",
   "name": "python",
   "nbconvert_exporter": "python",
   "pygments_lexer": "ipython3",
   "version": "3.8.3"
  },
  "toc-showcode": true
 },
 "nbformat": 4,
 "nbformat_minor": 4
}
