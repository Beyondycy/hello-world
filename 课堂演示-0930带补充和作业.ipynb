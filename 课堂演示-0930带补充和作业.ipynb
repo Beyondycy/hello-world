{
 "cells": [
  {
   "cell_type": "markdown",
   "metadata": {},
   "source": [
    "## markdown语法\n",
    "---"
   ]
  },
  {
   "cell_type": "markdown",
   "metadata": {},
   "source": [
    "## 语法学习"
   ]
  },
  {
   "cell_type": "markdown",
   "metadata": {},
   "source": [
    "<font color=red>补充<font color/>\n",
    "\n",
    "`print`是我们接触的第一个Python函数，它能让我们看到程序的输出结果。"
   ]
  },
  {
   "cell_type": "code",
   "execution_count": 1,
   "metadata": {},
   "outputs": [
    {
     "name": "stdout",
     "output_type": "stream",
     "text": [
      "hello world!\n"
     ]
    }
   ],
   "source": [
    "print(\"hello world!\")"
   ]
  },
  {
   "cell_type": "markdown",
   "metadata": {},
   "source": [
    "### 养成写注释的好习惯\n",
    "* 提高可读性\n",
    "* 充当“开关”，想测试一部分是否有效但又不想破坏其他部分，可以把临时不需要的部分注释掉\n",
    "* 最大的用处是给自己和别人看\n",
    "\n",
    "单行注释：用`#`，多行注释用连续三个引号（单引号双引号均可）\n",
    "\n",
    "多行注释：用`''''''`或`\"\"\"\"\"\"`\n",
    "\n",
    "跨行：`\\`"
   ]
  },
  {
   "cell_type": "code",
   "execution_count": 2,
   "metadata": {},
   "outputs": [
    {
     "name": "stdout",
     "output_type": "stream",
     "text": [
      "我是Python代码，但我没被注释，所以会被执行\n"
     ]
    }
   ],
   "source": [
    "# 我是一个单行注释\n",
    "'''\n",
    "我是多行注释，如果赋给变量，也可以是一个字符串\n",
    "'''\n",
    "\n",
    "\"\"\"我也是多行注释。\"\"\"\n",
    "\n",
    "# print(\"我是Python代码，但我被注释了，所以不会执行--Ctrl + /\")\n",
    "print(\"我是Python代码，但我没被注释，所以会被执行\")"
   ]
  },
  {
   "cell_type": "markdown",
   "metadata": {},
   "source": [
    "### 变量与命名规则\n",
    "#### 变量\n",
    "* 使用等号“=”作为赋值运算符，把等号后面的“东西”（可以是数据、容器、函数、对象等）赋值给前面的“变量”，相当于是给计算机内存里面的某个东西发放了一个门牌号码。\n",
    "* Python是**弱类型**语言：\n",
    "    * 无须声明就可以直接赋值\n",
    "    * 数据类型可以动态改变：<fonr color=red>补充<font color>：同一个变量可以对应不同的数据类型，变量所指向的数据类型不会因为变量名的改变而改变（可以把变量看做是C语言中的指针）。\n",
    "\n",
    "#### 命名规则\n",
    "* 必须以字母或下划线`_`开头，后面跟任意的字母，数字，下划线`_`。常见错误：\n",
    "    1. 数字不能开头\n",
    "    2. 不能是Python关键字，但可以包含关键字\n",
    "    3. 中间不能有空格\n",
    "* Python 3.x全面支持utf-8字符集，可以使用中文作为标识符\n",
    "    * Python 2.x如果要使用中文，必须在.py文件第一行增加`# coding: utf-8`。你的.py文件也必须要用utf-8字符集保存。\n",
    "* Python区分大小写"
   ]
  },
  {
   "cell_type": "code",
   "execution_count": 1,
   "metadata": {},
   "outputs": [],
   "source": [
    "# 输入a=0，建立变量a，让其引用整数对象0\n",
    "a = 0\n",
    "# 若改变a的值，秩序将新的值赋值给a即可，新的值会覆盖原来的值\n",
    "a = 'ahufh'\n",
    "a = 0.21354"
   ]
  },
  {
   "cell_type": "code",
   "execution_count": 4,
   "metadata": {},
   "outputs": [],
   "source": [
    "# 合法的变量名\n",
    "a = 0\n",
    "_a = 0\n",
    "a1asg = 0\n",
    "bua_dih = 0\n",
    "空间分析 = 19"
   ]
  },
  {
   "cell_type": "code",
   "execution_count": 2,
   "metadata": {
    "scrolled": true
   },
   "outputs": [
    {
     "ename": "NameError",
     "evalue": "name 'acc' is not defined",
     "output_type": "error",
     "traceback": [
      "\u001b[1;31m--------------------------------------------------------------------------\u001b[0m",
      "\u001b[1;31mNameError\u001b[0m                                Traceback (most recent call last)",
      "\u001b[1;32m<ipython-input-2-183ea48fa07e>\u001b[0m in \u001b[0;36m<module>\u001b[1;34m\u001b[0m\n\u001b[0;32m      1\u001b[0m \u001b[1;31m# 区分大小写,若未区分则报错\u001b[0m\u001b[1;33m\u001b[0m\u001b[1;33m\u001b[0m\u001b[1;33m\u001b[0m\u001b[0m\n\u001b[0;32m      2\u001b[0m \u001b[0mAcc\u001b[0m \u001b[1;33m=\u001b[0m \u001b[1;36m0\u001b[0m\u001b[1;33m\u001b[0m\u001b[1;33m\u001b[0m\u001b[0m\n\u001b[1;32m----> 3\u001b[1;33m \u001b[0mprint\u001b[0m\u001b[1;33m(\u001b[0m\u001b[0macc\u001b[0m\u001b[1;33m)\u001b[0m\u001b[1;33m\u001b[0m\u001b[1;33m\u001b[0m\u001b[0m\n\u001b[0m",
      "\u001b[1;31mNameError\u001b[0m: name 'acc' is not defined"
     ]
    }
   ],
   "source": [
    "# 区分大小写,若未区分则报错\n",
    "Acc = 0\n",
    "print(acc)"
   ]
  },
  {
   "cell_type": "code",
   "execution_count": 7,
   "metadata": {
    "scrolled": true
   },
   "outputs": [
    {
     "ename": "IndentationError",
     "evalue": "unexpected indent (<ipython-input-7-0edcef0774b2>, line 6)",
     "output_type": "error",
     "traceback": [
      "\u001b[1;36m  File \u001b[1;32m\"<ipython-input-7-0edcef0774b2>\"\u001b[1;36m, line \u001b[1;32m6\u001b[0m\n\u001b[1;33m    dfhu#i = 1\u001b[0m\n\u001b[1;37m    ^\u001b[0m\n\u001b[1;31mIndentationError\u001b[0m\u001b[1;31m:\u001b[0m unexpected indent\n"
     ]
    }
   ],
   "source": [
    "# 不合法的变量名，可以逐个打开/关闭注释，看看报的什么错\n",
    "# 2sfg = 0\n",
    "# if_accident = 0\n",
    "# bua_d ih = 0\n",
    "# True = False\n",
    "# dfhu#i = 1"
   ]
  },
  {
   "cell_type": "markdown",
   "metadata": {},
   "source": [
    "### 关键字和内置函数\n",
    "* 都不能作为标识符\n",
    "* 用关键字做Python标识符会报错\n",
    "* **如果你的标识符与内置函数重名，Python不会报错，但内置函数也用不了了**"
   ]
  },
  {
   "cell_type": "markdown",
   "metadata": {},
   "source": [
    "#### 直观判断方法：\n",
    "是否变色"
   ]
  },
  {
   "cell_type": "code",
   "execution_count": 7,
   "metadata": {
    "scrolled": true
   },
   "outputs": [
    {
     "data": {
      "text/plain": [
       "['False',\n",
       " 'None',\n",
       " 'True',\n",
       " 'and',\n",
       " 'as',\n",
       " 'assert',\n",
       " 'async',\n",
       " 'await',\n",
       " 'break',\n",
       " 'class',\n",
       " 'continue',\n",
       " 'def',\n",
       " 'del',\n",
       " 'elif',\n",
       " 'else',\n",
       " 'except',\n",
       " 'finally',\n",
       " 'for',\n",
       " 'from',\n",
       " 'global',\n",
       " 'if',\n",
       " 'import',\n",
       " 'in',\n",
       " 'is',\n",
       " 'lambda',\n",
       " 'nonlocal',\n",
       " 'not',\n",
       " 'or',\n",
       " 'pass',\n",
       " 'raise',\n",
       " 'return',\n",
       " 'try',\n",
       " 'while',\n",
       " 'with',\n",
       " 'yield']"
      ]
     },
     "execution_count": 7,
     "metadata": {},
     "output_type": "execute_result"
    }
   ],
   "source": [
    "# 查询Python的关键字\n",
    "import keyword\n",
    "keyword.kwlist"
   ]
  },
  {
   "cell_type": "code",
   "execution_count": 8,
   "metadata": {},
   "outputs": [
    {
     "data": {
      "text/plain": [
       "['ArithmeticError',\n",
       " 'AssertionError',\n",
       " 'AttributeError',\n",
       " 'BaseException',\n",
       " 'BlockingIOError',\n",
       " 'BrokenPipeError',\n",
       " 'BufferError',\n",
       " 'BytesWarning',\n",
       " 'ChildProcessError',\n",
       " 'ConnectionAbortedError',\n",
       " 'ConnectionError',\n",
       " 'ConnectionRefusedError',\n",
       " 'ConnectionResetError',\n",
       " 'DeprecationWarning',\n",
       " 'EOFError',\n",
       " 'Ellipsis',\n",
       " 'EnvironmentError',\n",
       " 'Exception',\n",
       " 'False',\n",
       " 'FileExistsError',\n",
       " 'FileNotFoundError',\n",
       " 'FloatingPointError',\n",
       " 'FutureWarning',\n",
       " 'GeneratorExit',\n",
       " 'IOError',\n",
       " 'ImportError',\n",
       " 'ImportWarning',\n",
       " 'IndentationError',\n",
       " 'IndexError',\n",
       " 'InterruptedError',\n",
       " 'IsADirectoryError',\n",
       " 'KeyError',\n",
       " 'KeyboardInterrupt',\n",
       " 'LookupError',\n",
       " 'MemoryError',\n",
       " 'ModuleNotFoundError',\n",
       " 'NameError',\n",
       " 'None',\n",
       " 'NotADirectoryError',\n",
       " 'NotImplemented',\n",
       " 'NotImplementedError',\n",
       " 'OSError',\n",
       " 'OverflowError',\n",
       " 'PendingDeprecationWarning',\n",
       " 'PermissionError',\n",
       " 'ProcessLookupError',\n",
       " 'RecursionError',\n",
       " 'ReferenceError',\n",
       " 'ResourceWarning',\n",
       " 'RuntimeError',\n",
       " 'RuntimeWarning',\n",
       " 'StopAsyncIteration',\n",
       " 'StopIteration',\n",
       " 'SyntaxError',\n",
       " 'SyntaxWarning',\n",
       " 'SystemError',\n",
       " 'SystemExit',\n",
       " 'TabError',\n",
       " 'TimeoutError',\n",
       " 'True',\n",
       " 'TypeError',\n",
       " 'UnboundLocalError',\n",
       " 'UnicodeDecodeError',\n",
       " 'UnicodeEncodeError',\n",
       " 'UnicodeError',\n",
       " 'UnicodeTranslateError',\n",
       " 'UnicodeWarning',\n",
       " 'UserWarning',\n",
       " 'ValueError',\n",
       " 'Warning',\n",
       " 'WindowsError',\n",
       " 'ZeroDivisionError',\n",
       " '__IPYTHON__',\n",
       " '__build_class__',\n",
       " '__debug__',\n",
       " '__doc__',\n",
       " '__import__',\n",
       " '__loader__',\n",
       " '__name__',\n",
       " '__package__',\n",
       " '__spec__',\n",
       " 'abs',\n",
       " 'all',\n",
       " 'any',\n",
       " 'ascii',\n",
       " 'bin',\n",
       " 'bool',\n",
       " 'breakpoint',\n",
       " 'bytearray',\n",
       " 'bytes',\n",
       " 'callable',\n",
       " 'chr',\n",
       " 'classmethod',\n",
       " 'compile',\n",
       " 'complex',\n",
       " 'copyright',\n",
       " 'credits',\n",
       " 'delattr',\n",
       " 'dict',\n",
       " 'dir',\n",
       " 'display',\n",
       " 'divmod',\n",
       " 'enumerate',\n",
       " 'eval',\n",
       " 'exec',\n",
       " 'execfile',\n",
       " 'filter',\n",
       " 'float',\n",
       " 'format',\n",
       " 'frozenset',\n",
       " 'get_ipython',\n",
       " 'getattr',\n",
       " 'globals',\n",
       " 'hasattr',\n",
       " 'hash',\n",
       " 'help',\n",
       " 'hex',\n",
       " 'id',\n",
       " 'input',\n",
       " 'int',\n",
       " 'isinstance',\n",
       " 'issubclass',\n",
       " 'iter',\n",
       " 'len',\n",
       " 'license',\n",
       " 'list',\n",
       " 'locals',\n",
       " 'map',\n",
       " 'max',\n",
       " 'memoryview',\n",
       " 'min',\n",
       " 'next',\n",
       " 'object',\n",
       " 'oct',\n",
       " 'open',\n",
       " 'ord',\n",
       " 'pow',\n",
       " 'print',\n",
       " 'property',\n",
       " 'range',\n",
       " 'repr',\n",
       " 'reversed',\n",
       " 'round',\n",
       " 'runfile',\n",
       " 'set',\n",
       " 'setattr',\n",
       " 'slice',\n",
       " 'sorted',\n",
       " 'staticmethod',\n",
       " 'str',\n",
       " 'sum',\n",
       " 'super',\n",
       " 'tuple',\n",
       " 'type',\n",
       " 'vars',\n",
       " 'zip']"
      ]
     },
     "execution_count": 8,
     "metadata": {},
     "output_type": "execute_result"
    }
   ],
   "source": [
    "# 查询Python内置函数\n",
    "import builtins\n",
    "dir(builtins)"
   ]
  },
  {
   "cell_type": "code",
   "execution_count": 9,
   "metadata": {
    "scrolled": true
   },
   "outputs": [
    {
     "name": "stdout",
     "output_type": "stream",
     "text": [
      "Help on built-in function abs in module builtins:\n",
      "\n",
      "abs(x, /)\n",
      "    Return the absolute value of the argument.\n",
      "\n"
     ]
    }
   ],
   "source": [
    "# 可以使用help命令，查询每个函数的文档\n",
    "help(abs)"
   ]
  },
  {
   "cell_type": "markdown",
   "metadata": {},
   "source": [
    "### 数值类型\n",
    "支持整型、浮点型、复数\n",
    "\n",
    "* 整型：Python3支持任意大小的整型数值，不区分short、long等。只要内存装得下，想要多大就有多大。"
   ]
  },
  {
   "cell_type": "code",
   "execution_count": 10,
   "metadata": {
    "scrolled": false
   },
   "outputs": [
    {
     "name": "stdout",
     "output_type": "stream",
     "text": [
      "2 <class 'int'>\n",
      "10715086071862673209484250490600018105614048117055336074437503883703510511249361224931983788156958581275946729175531468251871452856923140435984577574698574803934567774824230985421074605062371141877954182153046474983581941267398767559165543946077062914571196477686542167660429831652624386837205668069376\n"
     ]
    }
   ],
   "source": [
    "# 用type()可以查看数据类型\n",
    "a = 2\n",
    "print(a, type(a))\n",
    "# 可以测试Python支持多大的整数\n",
    "print(a ** 1000)"
   ]
  },
  {
   "cell_type": "markdown",
   "metadata": {},
   "source": [
    "* 浮点型：带有小数点的数值，长度有限。两种表示方法：带小数点的十进制/科学计数法\n",
    "\n",
    "<font color=red>补充：</font> 两个整数相除返回浮点数（Python3），在Python2中，两个整数相除返回整数。"
   ]
  },
  {
   "cell_type": "code",
   "execution_count": 11,
   "metadata": {
    "scrolled": true
   },
   "outputs": [
    {
     "name": "stdout",
     "output_type": "stream",
     "text": [
      "2.0 <class 'float'>\n",
      "500 500.0 500.0\n",
      "1.3333333333333333 <class 'float'>\n"
     ]
    }
   ],
   "source": [
    "# 浮点数 float\n",
    "b = 2.\n",
    "print(b, type(b))\n",
    "c = 500\n",
    "d = 500.\n",
    "e = 5E2 # 科学计数法\n",
    "print(c, d, e)\n",
    "# python 3中，整数相除返回浮点数\n",
    "a = 4 / 3\n",
    "print(a, type(a))"
   ]
  },
  {
   "cell_type": "markdown",
   "metadata": {},
   "source": [
    "* 复数（`complex`）：虚数单位用j和J表示"
   ]
  },
  {
   "cell_type": "code",
   "execution_count": 12,
   "metadata": {
    "scrolled": true
   },
   "outputs": [
    {
     "name": "stdout",
     "output_type": "stream",
     "text": [
      "(2+5j) <class 'complex'>\n",
      "(2+5j) <class 'complex'>\n"
     ]
    }
   ],
   "source": [
    "z1 = complex(2, 5)\n",
    "print(z1, type(z1))\n",
    "z2 = 2 + 5J\n",
    "print(z2, type(z2))\n",
    "#这是两种建立复数的方法"
   ]
  },
  {
   "cell_type": "markdown",
   "metadata": {},
   "source": [
    "* 布尔类型：表示逻辑上的`真`和`假`\n",
    "* 是整型的子类，只有两个实例对象：`True=1`, `False=0`"
   ]
  },
  {
   "cell_type": "code",
   "execution_count": 13,
   "metadata": {},
   "outputs": [
    {
     "name": "stdout",
     "output_type": "stream",
     "text": [
      "True <class 'bool'>\n",
      "2 <class 'int'>\n"
     ]
    }
   ],
   "source": [
    "a = True\n",
    "print(a, type(a))\n",
    "# 布尔类型可以像证书一样进行运算，运算之后类型回发生相应的变化\n",
    "a += 1\n",
    "print(a, type(a))"
   ]
  },
  {
   "cell_type": "code",
   "execution_count": null,
   "metadata": {},
   "outputs": [],
   "source": []
  },
  {
   "cell_type": "markdown",
   "metadata": {},
   "source": [
    "### 字符串(str)\n",
    "* 没有字符类型，单个的字符也是字符串类型\n",
    "* 按从左到右一次排列\n",
    "* 按索引访问(从0开始)\n",
    "* 单引号双引号通用\n",
    "* 注意Python2.x：对UTF-8也有支持但支持的不完善。由于python 2.x已经于2020年1月停止支持，本课程不会过多涉及老版本的内容。如果由于工作需要而必须使用python 2.x，请尽量避免在字符串中使用中文！"
   ]
  },
  {
   "cell_type": "code",
   "execution_count": 9,
   "metadata": {},
   "outputs": [
    {
     "name": "stdout",
     "output_type": "stream",
     "text": [
      "hahahaah <class 'str'>\n",
      "h hah\n"
     ]
    }
   ],
   "source": [
    "str_a = 'hahahaah'\n",
    "print(str_a, type(str_a))\n",
    "print(str_a[0], str_a[2:5])\n",
    "#注意是用[]进行访问"
   ]
  },
  {
   "cell_type": "code",
   "execution_count": 15,
   "metadata": {},
   "outputs": [
    {
     "name": "stdout",
     "output_type": "stream",
     "text": [
      "吃着火锅唱着歌！忽然听说下午有课！！！吃不成火锅了赶紧撤！\n"
     ]
    }
   ],
   "source": [
    "# 用 + 号，拼接字符串\n",
    "s = '吃着火锅唱着歌！'+'忽然听说下午有课！！！'+'吃不成火锅了赶紧撤！'\n",
    "print(s)"
   ]
  },
  {
   "cell_type": "markdown",
   "metadata": {},
   "source": [
    "### 常用转义符\n",
    "有些字符直接写在字符串里，输出的不见得是我们想要的，需要借助转义符。\n",
    "\n",
    "转义符 | 说明\n",
    "-|-\n",
    "\\b | 退格符\n",
    "\\n | 换行符\n",
    "\\r | 回车符\n",
    "\\t | 制表符\n",
    "\\\" | 双印号\n",
    "\\' | 单引号\n",
    "\\\\ |反斜线"
   ]
  },
  {
   "cell_type": "code",
   "execution_count": 16,
   "metadata": {
    "scrolled": false
   },
   "outputs": [
    {
     "name": "stdout",
     "output_type": "stream",
     "text": [
      "\"这是双引号\n",
      "'这是单引号'\n",
      "这是反斜杠\\\n",
      "GIS空间分析\n",
      "共19人\n",
      "GIS空间分析\t共19人\n"
     ]
    }
   ],
   "source": [
    "# 双引号\n",
    "a = \"\\\"这是双引号\"\n",
    "print(a)\n",
    "# 单引号\n",
    "print('\\'这是单引号\\'')\n",
    "# 反斜杠\n",
    "print(\"这是反斜杠\\\\\")\n",
    "# 换行\n",
    "print(\"GIS空间分析\\n共19人\")\n",
    "# tab\n",
    "print(\"GIS空间分析\\t共19人\")"
   ]
  },
  {
   "cell_type": "markdown",
   "metadata": {},
   "source": [
    "#### 与数值的转换\n",
    "<font color=red>补充</font>：python不允许直接拼接数值和字符串，需要把数值转换为字符串才行\n",
    "* str() 转换为字符串：内置类型\n",
    "* repr() 返回字符串表示\n",
    "* 二者对于数值的转换是一样的"
   ]
  },
  {
   "cell_type": "code",
   "execution_count": 14,
   "metadata": {},
   "outputs": [
    {
     "name": "stdout",
     "output_type": "stream",
     "text": [
      "123 <class 'int'>\n",
      "123 <class 'str'>\n",
      "123 <class 'str'>\n",
      "'123'\n",
      "'123' <class 'str'>\n"
     ]
    }
   ],
   "source": [
    "#repr函数只是显性地表示\n",
    "a = 123\n",
    "b = '123'\n",
    "print(a,type(a)) \n",
    "print(b,type(b))\n",
    "c = str(a)\n",
    "print(c,type(c))\n",
    "d = repr(c)\n",
    "print(d,type(d))"
   ]
  },
  {
   "cell_type": "code",
   "execution_count": 17,
   "metadata": {
    "scrolled": true
   },
   "outputs": [
    {
     "name": "stdout",
     "output_type": "stream",
     "text": [
      "123\n",
      "'123'\n"
     ]
    }
   ],
   "source": [
    "#\n",
    "a = \"123\"\n",
    "print(str(a))\n",
    "print(repr(a))"
   ]
  },
  {
   "cell_type": "markdown",
   "metadata": {},
   "source": [
    "#### 获取用户输入\n",
    "* input用于向用户生成一条提示，获取用户的输入。input函数的返回值是一个字符串，用户的输入就存在这个字符串里。\n",
    "* 不论用户输入的是什么，`input`函数都会给你转成字符串。你的程序需要把字符串再处理成你想要的东西。"
   ]
  },
  {
   "cell_type": "code",
   "execution_count": 15,
   "metadata": {
    "scrolled": true
   },
   "outputs": [
    {
     "name": "stdout",
     "output_type": "stream",
     "text": [
      "请输入你的值：我是谁\n",
      "<class 'str'>\n",
      "我是谁\n"
     ]
    }
   ],
   "source": [
    "#注意imput函数是获取字符串\n",
    "msg = input(\"请输入你的值：\")\n",
    "print(type(msg))\n",
    "print(msg)"
   ]
  },
  {
   "cell_type": "markdown",
   "metadata": {},
   "source": [
    "#### 字符串常用函数\n",
    "* <font color=red>补充</font>： 字符串大小写转换：\n",
    "    * `title`：每个单词首字母大写\n",
    "    * `upper`：全体大写\n",
    "    * `lower`：全体小写\n",
    "* 删除空白\n",
    "    * `strip`：删除左右两边的空白\n",
    "    * `lstrip`：删除左边的空白\n",
    "    * `rstrip`：删除右边的空白\n",
    "    * 实际是可以接受参数，如果不给参数就会删除空白，如果给一个字符作为参数，就会删除与所给字符相同的部分\n",
    "* 查找与替换\n",
    "    * `find(x)`：返回字符串x出现在str中最左边的位置，不存在则返回-1\n",
    "    * `find(x, n)`：从索引n开始查找，返回字符串x出现在str中最左边的位置，不存在则返回-1\n",
    "    * `index(x)`：返回字符串x出现在str中最左边的位置，不存在会报错\n",
    "    * `rfind(x)`：返回字符串x出现在str中最右边的位置，不存在会报错\n",
    "    * `rindex(x)`：返回字符串x出现在str中最右边的位置，不存在会爆粗\n",
    "    * `startswith(x)`：x为字符串或者字符串组成的元组，如果str以x或x元组中的某一元素开头，则返回True，否则返回False\n",
    "    * `endswith(x)`： x为字符串或者字符串组成的元组，如果str以x或x元组中的某一元素结尾，则返回True，否则返回False\n",
    "    * `replace(x, y)`：将str中所有x替换成y\n",
    "    * `replace(x, y, n)`：将str中的n个x替换成y\n",
    "* 分割与连接\n",
    "    * `split`：分割文本（很有用的功能，尤其是在文本数据导入）\n",
    "    * `join`：连接`':\\t'.join(list)`"
   ]
  },
  {
   "cell_type": "code",
   "execution_count": 19,
   "metadata": {},
   "outputs": [
    {
     "name": "stdout",
     "output_type": "stream",
     "text": [
      "My Life For Aiur!\n",
      "MY LIFE FOR AIUR!\n",
      "my life for aiur!\n"
     ]
    }
   ],
   "source": [
    "# 大小写转换\n",
    "# 每个单词首字母大写\n",
    "s = 'My life for Aiur!'\n",
    "print(s.title())\n",
    "# 全体大写\n",
    "print(s.upper())\n",
    "# 全体小写\n",
    "print(s.lower())"
   ]
  },
  {
   "cell_type": "code",
   "execution_count": 16,
   "metadata": {
    "scrolled": false
   },
   "outputs": [
    {
     "name": "stdout",
     "output_type": "stream",
     "text": [
      "'吃着火锅唱着歌！忽然听说下午有课！！！吃不成火锅了赶紧撤！'\n",
      "'吃着火锅唱着歌！忽然听说下午有课！！！吃不成火锅了赶紧撤！  '\n",
      "'  吃着火锅唱着歌！忽然听说下午有课！！！吃不成火锅了赶紧撤！'\n",
      "'  吃着火锅唱着歌！忽然听说下午有课！！！吃不成火锅了赶紧撤！  '\n",
      "'  吃着火锅唱着歌！忽然听说下午有课！！！吃不成火锅了赶紧撤！  '\n"
     ]
    }
   ],
   "source": [
    "# 删除\n",
    "s = '  吃着火锅唱着歌！'+'忽然听说下午有课！！！'+'吃不成火锅了赶紧撤！  '\n",
    "print(repr(s.strip()))\n",
    "print(repr(s.lstrip()))\n",
    "print(repr(s.rstrip()))\n",
    "# 以上三个函数会返回一个新的字符串，原来的字符串仍然保持原状\n",
    "print(repr(s))\n",
    "print(repr(s.strip(\"吃着\")))"
   ]
  },
  {
   "cell_type": "code",
   "execution_count": 21,
   "metadata": {},
   "outputs": [
    {
     "name": "stdout",
     "output_type": "stream",
     "text": [
      "2\n",
      "22\n",
      "火\n",
      "锅\n"
     ]
    }
   ],
   "source": [
    "# 查找与替换\n",
    "s = '吃着火锅唱着歌！'+'忽然听说下午有课！！！'+'吃不成火锅了赶紧撤！'\n",
    "# str.find(x) 返回字符串x出现在str中的最左边的位置，不存在返回-1\n",
    "s.find('学')\n",
    "# str.find(x,n) 从索引n开始查找，返回字符串x出现在str中的最左边的位置，不存在返回-1\n",
    "print(s.find('火'))\n",
    "print(s.find('火',5))\n",
    "print(s[2])\n",
    "print(s[23])"
   ]
  },
  {
   "cell_type": "markdown",
   "metadata": {},
   "source": [
    "### 常用运算符\n",
    "* 用于表示数据的运算、赋值、比较等\n",
    "    * 赋值运算符：`=`、与算数一起用、可连续赋值、支持分配式赋值\n",
    "    * 算数运算符：加`+`、减`-`、乘`*`、除`/`、整除`//`、取模`%`\n",
    "    * 比较运算符：相等`==`、不等于`!=`、大于`>`、小于`<`、大于等于`>=`、小于等于`<=`\n",
    "    * 逻辑运算符：或`or`、且`and`、非`not`\n",
    "    * 身份运算符：`is` 主要用来比较两个对象的id是否相等，实际上是取出对象的id值（内存地址）进行比较\n",
    "    * 成员运算符：`in`\n"
   ]
  },
  {
   "cell_type": "markdown",
   "metadata": {},
   "source": [
    "### 赋值运算符"
   ]
  },
  {
   "cell_type": "code",
   "execution_count": 22,
   "metadata": {},
   "outputs": [
    {
     "name": "stdout",
     "output_type": "stream",
     "text": [
      "4 4 4 4\n",
      "1 2 3 4\n"
     ]
    }
   ],
   "source": [
    "# 赋值运算符\n",
    "a = b = c = d = 4 # 多重赋值\n",
    "print(a, b, c, d)\n",
    "a, b, c, d = 1, 2, 3, 4 # 分配式赋值\n",
    "print(a, b, c, d)"
   ]
  },
  {
   "cell_type": "markdown",
   "metadata": {},
   "source": [
    "### 算数运算符"
   ]
  },
  {
   "cell_type": "code",
   "execution_count": 19,
   "metadata": {
    "scrolled": true
   },
   "outputs": [
    {
     "name": "stdout",
     "output_type": "stream",
     "text": [
      "3+2 = 5\n",
      "3-2 = 1\n",
      "3*2 = 6\n",
      "3**2 = 9\n",
      "3/2 = 1.5\n",
      "3//2 = 1\n",
      "-2\n",
      "搞定作业搞定作业搞定作业搞定作业搞定作业\n"
     ]
    }
   ],
   "source": [
    "# 算数运算符\n",
    "# 加\n",
    "print('3+2 =', 3+2)\n",
    "# 减\n",
    "print('3-2 =', 3-2)\n",
    "# 乘\n",
    "print('3*2 =', 3*2)\n",
    "# 幂\n",
    "print('3**2 =', 3**2)\n",
    "# 除\n",
    "print('3/2 =', 3/2)\n",
    "# 整除，返回商的整数\n",
    "print('3//2 =', 3//2)\n",
    "# 取正负值\n",
    "a = 2\n",
    "b = -a\n",
    "print(b)\n",
    "# 加法和乘法运算符可以用于字符串。加法用来拼接字符串，#乘法用于重复连接多个字符串#\n",
    "s1 = '搞定'\n",
    "s2 = '作业'\n",
    "print((s1+s2)*5)"
   ]
  },
  {
   "cell_type": "markdown",
   "metadata": {},
   "source": [
    "### 比较运算符"
   ]
  },
  {
   "cell_type": "code",
   "execution_count": 24,
   "metadata": {},
   "outputs": [
    {
     "name": "stdout",
     "output_type": "stream",
     "text": [
      "True\n",
      "True\n",
      "False\n",
      "True\n",
      "False\n",
      "True\n"
     ]
    }
   ],
   "source": [
    "# 比较运算符\n",
    "a = 2\n",
    "b = 1\n",
    "# 相等判断（注意相等判断是连续两个等号==，单独一个等号是赋值！）\n",
    "print(a==2)\n",
    "# 不等于\n",
    "print(b!=a)\n",
    "# 大于\n",
    "print(b>a)\n",
    "# 小于\n",
    "print(b<a)\n",
    "# 大于等于\n",
    "print(b>=a)\n",
    "# 小于等于\n",
    "print(b<=a)"
   ]
  },
  {
   "cell_type": "markdown",
   "metadata": {},
   "source": [
    "### 逻辑运算符"
   ]
  },
  {
   "cell_type": "code",
   "execution_count": 25,
   "metadata": {},
   "outputs": [
    {
     "name": "stdout",
     "output_type": "stream",
     "text": [
      "False\n",
      "True\n",
      "False\n"
     ]
    }
   ],
   "source": [
    "# 逻辑运算符\n",
    "A = True\n",
    "B = False\n",
    "print(A and B) # 且\n",
    "print(A or B)  # 或\n",
    "print(not A)   # 非"
   ]
  },
  {
   "cell_type": "markdown",
   "metadata": {},
   "source": [
    "### 身份运算符"
   ]
  },
  {
   "cell_type": "code",
   "execution_count": 26,
   "metadata": {},
   "outputs": [
    {
     "name": "stdout",
     "output_type": "stream",
     "text": [
      "False\n",
      "True\n",
      "2114945153792\n",
      "2114946183104\n"
     ]
    }
   ],
   "source": [
    "# 身份运算符\n",
    "# is 和 == 不同， is 比较对象的身份（地址），==比较对象的值（内容）\n",
    "A = [1,2,3]\n",
    "B = [1,2,3]\n",
    "print(A is B)\n",
    "print(A == B)\n",
    "print(id(A))\n",
    "print(id(B))"
   ]
  },
  {
   "cell_type": "markdown",
   "metadata": {},
   "source": [
    "### 成员运算符"
   ]
  },
  {
   "cell_type": "code",
   "execution_count": 27,
   "metadata": {},
   "outputs": [
    {
     "name": "stdout",
     "output_type": "stream",
     "text": [
      "True\n",
      "True\n",
      "True\n"
     ]
    }
   ],
   "source": [
    "# 成员运算符\n",
    "# 主要用于比较对象A是否存在于容器B中\n",
    "A = 2\n",
    "B = [4,3,2]\n",
    "C = {2,4,3}\n",
    "D = (1,3,2)\n",
    "print(A in B)\n",
    "print(A in C)\n",
    "print(A in D) "
   ]
  },
  {
   "cell_type": "markdown",
   "metadata": {},
   "source": [
    "* 运算符的优先级（从高到低）\n",
    "\n",
    "运算符名称 | 运算符 \n",
    "- | -\n",
    "索引 | x[i]\n",
    "属性访问 | x.attribute\n",
    "乘方 | **\n",
    "按位取反 | ~\n",
    "符号运算符 | +/-\n",
    "乘除 | * / // %\n",
    "加减 | + -\n",
    "位移运算符 | << >>\n",
    "按位与 | &\n",
    "按位异或 | ^\n",
    "按位或 | |\n",
    "比较运算符 | == != > >= < <=\n",
    "身份运算符 | is (is not)\n",
    "成员运算符 | in (not in)\n",
    "逻辑非 | not\n",
    "逻辑与 | and\n",
    "逻辑或 | or\n",
    "\n",
    "* 如果表达式太长了，还是建议多多使用括号，能增强代码可读性，少犯错误。"
   ]
  },
  {
   "cell_type": "markdown",
   "metadata": {},
   "source": [
    "---"
   ]
  },
  {
   "cell_type": "markdown",
   "metadata": {},
   "source": [
    "## 容器类型\n",
    "* 列表，元组，字典，集合\n",
    "* 能装东西\n",
    "* 提供很多方法操作这些东西（增删改等）\n",
    "* 是学习Python必知必会的内容"
   ]
  },
  {
   "cell_type": "markdown",
   "metadata": {},
   "source": [
    "### 列表（list）\n",
    "* 创建：方括号+逗号\n",
    "* 引用：索引（有序）\n",
    "    * 可正可负\n",
    "    * 有效范围：0到n-1，-1到-n\n",
    "* 用len()查看列表长度\n",
    "* 可混搭"
   ]
  },
  {
   "cell_type": "code",
   "execution_count": 20,
   "metadata": {},
   "outputs": [
    {
     "name": "stdout",
     "output_type": "stream",
     "text": [
      "2 5\n",
      "5\n",
      "[1, 2, 3, 'qwe', [1, 2, 3]]\n",
      "5\n"
     ]
    }
   ],
   "source": [
    "list_1 = [1, 2, 3, 4, 5]\n",
    "print(list_1[1], list_1[-1]) # 索引\n",
    "print(len(list_1)) # 查看长度\n",
    "list_2 = [1, 2, 3, 'qwe', [1, 2, 3]] # 混搭\n",
    "print(list_2)"
   ]
  },
  {
   "cell_type": "markdown",
   "metadata": {},
   "source": [
    "* <font color=red>补充：</font>列表的其他创建方式：\n",
    "    * 用空的方括号创建空的列表\n",
    "    * 用方括号包括一些对象，对象之间用逗号分隔，创建有内容的列表\n",
    "    * 用列表的构造函数list()创建列表"
   ]
  },
  {
   "cell_type": "code",
   "execution_count": 29,
   "metadata": {},
   "outputs": [
    {
     "name": "stdout",
     "output_type": "stream",
     "text": [
      "[] <class 'list'> False\n",
      "[1, 2, 3] <class 'list'> True\n",
      "[4, 5, 6] <class 'list'>\n",
      "range(2, 20, 3) <class 'range'>\n",
      "[2, 5, 8, 11, 14, 17] <class 'list'>\n",
      "My life for Aiur! <class 'str'>\n",
      "['M', 'y', ' ', 'l', 'i', 'f', 'e', ' ', 'f', 'o', 'r', ' ', 'A', 'i', 'u', 'r', '!'] <class 'list'>\n"
     ]
    }
   ],
   "source": [
    "# 用方括号创建空列表\n",
    "a = []\n",
    "print(a, type(a), bool(a))\n",
    "# 用方括号创建有内容的列表\n",
    "b = [1,2,3]\n",
    "print(b, type(b), bool(b))\n",
    "# 用list从元组创建列表\n",
    "t = (4,5,6)\n",
    "c = list(t)\n",
    "print(c, type(c))\n",
    "# 从区间（range）创建列表  #range是常用数列的构造方法\n",
    "r = range(2,20,3)\n",
    "d = list(r)\n",
    "print(r, type(r))\n",
    "print(d, type(d))\n",
    "# 从字符串创建列表\n",
    "s = 'My life for Aiur!'\n",
    "e = list(s)\n",
    "print(s, type(s))\n",
    "print(e, type(e))"
   ]
  },
  {
   "cell_type": "markdown",
   "metadata": {},
   "source": [
    "#### 切片引用\n",
    "* 适用的有序类型：列表，元组，字符串\n",
    "* <font color=red>补充：</font>同样适用于numpy数组，在数值计算中也非常有用\n",
    "* 基本语法：`[start: end: step]`\n",
    "    * `start`：开始（包含）\n",
    "    * `end`：结束（不包含）\n",
    "    * `step`：步长（默认为1）"
   ]
  },
  {
   "cell_type": "code",
   "execution_count": 30,
   "metadata": {},
   "outputs": [
    {
     "name": "stdout",
     "output_type": "stream",
     "text": [
      "[2, 4]\n",
      "火唱歌忽想来上！！\n"
     ]
    }
   ],
   "source": [
    "print(list_1[1:4:2])\n",
    "\n",
    "# 切片的引用方式，对所有有序容器类型都适用。例如字符串类型也可以用\n",
    "s = '吃着火锅唱着歌！'+'忽然想起来要上课！！！'+'吃不成火锅了赶紧撤！'\n",
    "print(s[2:20:2])"
   ]
  },
  {
   "cell_type": "markdown",
   "metadata": {},
   "source": [
    "#### 列表的加法和乘法\n",
    "* 加法：拼接\n",
    "* 乘法：重复\n",
    "* 要求：对象类型必须一致"
   ]
  },
  {
   "cell_type": "code",
   "execution_count": 31,
   "metadata": {},
   "outputs": [
    {
     "name": "stdout",
     "output_type": "stream",
     "text": [
      "[1, 2, 3, 2, 3, 4]\n",
      "[1, 2, 3, 1, 2, 3, 1, 2, 3, 1, 2, 3, 1, 2, 3]\n"
     ]
    }
   ],
   "source": [
    "a = [1, 2, 3]\n",
    "c = [2, 3, 4]\n",
    "print(a + c)\n",
    "print(5 * a)"
   ]
  },
  {
   "cell_type": "markdown",
   "metadata": {},
   "source": [
    "#### 成员运算符（in运算符）\n",
    "* 判断列表中是否包含某个元素"
   ]
  },
  {
   "cell_type": "code",
   "execution_count": 32,
   "metadata": {},
   "outputs": [
    {
     "name": "stdout",
     "output_type": "stream",
     "text": [
      "True\n",
      "False\n"
     ]
    }
   ],
   "source": [
    "a = [1, 2, 3]\n",
    "print(2 in a)\n",
    "print(5 in a)"
   ]
  },
  {
   "cell_type": "markdown",
   "metadata": {},
   "source": [
    "#### 最大值和最小值\n",
    "* python内置函数\n",
    "* 对于有序类型（列表、元组、字符串），max函数表示取其最大值，min函数表示取其最小值\n",
    "* 混搭的列表不能比较大小"
   ]
  },
  {
   "cell_type": "code",
   "execution_count": 33,
   "metadata": {
    "scrolled": true
   },
   "outputs": [
    {
     "name": "stdout",
     "output_type": "stream",
     "text": [
      "3 1\n"
     ]
    }
   ],
   "source": [
    "print(max(a), min(a))"
   ]
  },
  {
   "cell_type": "markdown",
   "metadata": {},
   "source": [
    "#### 列表元素的增删改\n",
    "**增加**\n",
    "* 按照增加的位置和方式的不同，主要有三种：\n",
    "    * append：在列表最后加，如果append参数也是列表、元组、字符串等有序类型，会形成嵌套列表\n",
    "    * extend：在列表最后加，如果参数是列表、元组、字符串等有序类型，会把列表打散后逐个添加（参数不能是数值，会报错），必须是可以迭代的序列\n",
    "    * insert：在列表的指定位置增加，第一个参数为插入位置，第二个参数为插入内容"
   ]
  },
  {
   "cell_type": "code",
   "execution_count": 25,
   "metadata": {},
   "outputs": [
    {
     "name": "stdout",
     "output_type": "stream",
     "text": [
      "None\n",
      "[1, 2, 3, 8, 4, 5]\n"
     ]
    }
   ],
   "source": [
    "a = [1, 2, 3, 4, 5]\n",
    "#print(a.append(['GIS', \"19\"]))\n",
    "#print(a.extend(['GIS', \"19\"]))\n",
    "print(a.insert(3, 8))\n",
    "print(a)"
   ]
  },
  {
   "cell_type": "code",
   "execution_count": 35,
   "metadata": {},
   "outputs": [
    {
     "name": "stdout",
     "output_type": "stream",
     "text": [
      "[[1, 2]]\n",
      "[[1, 2, 0]]\n"
     ]
    }
   ],
   "source": [
    "# a指向的列表变化了，b也会变化，因为他俩实际上指向同一块内存\n",
    "a = [1, 2]\n",
    "b = []\n",
    "\n",
    "b.append(a)\n",
    "print(b)\n",
    "\n",
    "a.append(0)\n",
    "print(b)"
   ]
  },
  {
   "cell_type": "markdown",
   "metadata": {},
   "source": [
    "* 复制：不等于赋值，只传递了对列表对象的引用\n",
    "* 浅复制/深复制：\n",
    "\n",
    "> 可变对象：可以修改的对象，包括列表，字典，集合\n",
    "> \n",
    "> 不可变对象：不可以修改的对象，包括字符串、元组、数值类型\n",
    "\n",
    "`copy.copy()`：仅传递了列表对象的引用，只复制列表第一层（只在第一层deepcopy）\n",
    "\n",
    "`copy.deepcopy()`：完全复制（递归使用deepcopy()）  \n",
    "相关链接：https://www.runoob.com/w3cnote/python-understanding-dict-copy-shallow-or-deep.html"
   ]
  },
  {
   "cell_type": "code",
   "execution_count": 30,
   "metadata": {},
   "outputs": [
    {
     "name": "stdout",
     "output_type": "stream",
     "text": [
      "A: [[2.4, 3.5, 1.6], [3.14, 22.33], 'hahaha']\n",
      "A: [2.45, [1024, 22.33], 'hahaha']\n",
      "B: [[2.4, 3.5, 1.6], [1024, 22.33], 'hahaha']\n",
      "C: [[2.4, 3.5, 1.6], [3.14, 22.33], 'hahaha']\n"
     ]
    }
   ],
   "source": [
    "import copy\n",
    "\n",
    "A = [[2.4, 3.5, 1.6],[3.14, 22.33],'hahaha']\n",
    "print(\"A:\", A)\n",
    "B = copy.copy(A)\n",
    "C = copy.deepcopy(A)\n",
    "A[0] = 2.45\n",
    "A[1][0] = 1024\n",
    "print(\"A:\", A)\n",
    "print(\"B:\", B)\n",
    "print(\"C:\", C)"
   ]
  },
  {
   "cell_type": "markdown",
   "metadata": {},
   "source": [
    "#### 删除\n",
    "* del语句：什么都能删（变量，列表里的单个元素，列表里的切片），Python其他有序类型中的元素也可用del删除\n",
    "* 除了del外，还自带remove和clear两个函数，也能执行删除操作\n",
    "    * remove：在列表里搜索指定的元素，找到的第一个元素会被删掉\n",
    "    * clear：清空列表中的所有东西，变成空列表（但列表还在）"
   ]
  },
  {
   "cell_type": "code",
   "execution_count": 37,
   "metadata": {},
   "outputs": [
    {
     "name": "stdout",
     "output_type": "stream",
     "text": [
      "[2, 3, 4]\n"
     ]
    },
    {
     "ename": "NameError",
     "evalue": "name 'a' is not defined",
     "output_type": "error",
     "traceback": [
      "\u001b[1;31m---------------------------------------------------------------------------\u001b[0m",
      "\u001b[1;31mNameError\u001b[0m                                 Traceback (most recent call last)",
      "\u001b[1;32m~\\AppData\\Local\\Temp/ipykernel_27256/3623314898.py\u001b[0m in \u001b[0;36m<module>\u001b[1;34m\u001b[0m\n\u001b[0;32m      3\u001b[0m \u001b[0mprint\u001b[0m\u001b[1;33m(\u001b[0m\u001b[0ma\u001b[0m\u001b[1;33m)\u001b[0m\u001b[1;33m\u001b[0m\u001b[1;33m\u001b[0m\u001b[0m\n\u001b[0;32m      4\u001b[0m \u001b[1;32mdel\u001b[0m \u001b[0ma\u001b[0m\u001b[1;33m\u001b[0m\u001b[1;33m\u001b[0m\u001b[0m\n\u001b[1;32m----> 5\u001b[1;33m \u001b[0mprint\u001b[0m\u001b[1;33m(\u001b[0m\u001b[0ma\u001b[0m\u001b[1;33m)\u001b[0m \u001b[1;31m# 整个列表删除，内存中无a，查无此列表，报错\u001b[0m\u001b[1;33m\u001b[0m\u001b[1;33m\u001b[0m\u001b[0m\n\u001b[0m",
      "\u001b[1;31mNameError\u001b[0m: name 'a' is not defined"
     ]
    }
   ],
   "source": [
    "a = [1, 2, 3, 4]\n",
    "del a[0]\n",
    "print(a)\n",
    "del a\n",
    "print(a) # 整个列表删除，内存中无a，查无此列表，报错"
   ]
  },
  {
   "cell_type": "code",
   "execution_count": 38,
   "metadata": {},
   "outputs": [
    {
     "name": "stdout",
     "output_type": "stream",
     "text": [
      "[1, 2, 3, 4, 5, 5]\n",
      "[]\n"
     ]
    }
   ],
   "source": [
    "b = [1, 2, 2, 3, 4, 5, 5]\n",
    "b.remove(2)\n",
    "print(b)\n",
    "b.clear()\n",
    "print(b)"
   ]
  },
  {
   "cell_type": "markdown",
   "metadata": {},
   "source": [
    "#### 修改列表元素\n",
    "* 通过单个索引，对单独的列表元素直接赋值\n",
    "* 利用切片：\n",
    "    * 列用切片对不存在的元素赋值，就变成插入操作（如果不用切片，会报错）\n",
    "    * 利用切片对存在的元素赋值为空，就变成删除操作（如果不用切片，会用空列表代替）"
   ]
  },
  {
   "cell_type": "code",
   "execution_count": 39,
   "metadata": {},
   "outputs": [
    {
     "name": "stdout",
     "output_type": "stream",
     "text": [
      "['ahah', '2333', 2, 3, 7]\n",
      "['ahah', '2333', 2, 3, 7, 5, 6]\n"
     ]
    }
   ],
   "source": [
    "list_a = ['ahah', 1, 2, 3, 7]\n",
    "list_a[1] = '2333'\n",
    "print(list_a)\n",
    "list_a[100:101] = [5, 6]\n",
    "print(list_a)"
   ]
  },
  {
   "cell_type": "markdown",
   "metadata": {},
   "source": [
    "#### 列表的其他用法\n",
    "* count：统计某个元素出现的次数\n",
    "* index：查找某个元素在列表中出现的位置（只统计第一次出现的位置）\n",
    "* reverse：将整个列表顺序颠倒\n",
    "* sort：对列表元素进行排序(默认从小到大）\n",
    "    * 参数：默认reverse=False从小到大，若为True则为从打到小"
   ]
  },
  {
   "cell_type": "code",
   "execution_count": 40,
   "metadata": {},
   "outputs": [
    {
     "name": "stdout",
     "output_type": "stream",
     "text": [
      "3\n",
      "**********\n",
      "1\n",
      "1\n",
      "**********\n",
      "None\n",
      "[1, 2, 2, 3, 4, 5, 3, 2, 1]\n",
      "**********\n",
      "None\n",
      "[1, 1, 2, 2, 2, 3, 3, 4, 5]\n",
      "[5, 4, 3, 3, 2, 2, 2, 1, 1]\n",
      "[5, 4, 3, 3, 1, 1, 2, 2, 2]\n",
      "['python', 'swift', 'ruby', 'c++', 'c']\n"
     ]
    }
   ],
   "source": [
    "# count\n",
    "a = [1,2,3,5,4,3,2,2,1]\n",
    "print(a.count(2))\n",
    "\n",
    "print(\"*\" * 10)\n",
    "\n",
    "# index\n",
    "print(a.index(2))\n",
    "# a.index(x,start,end) 表示从start（包含）开始，到end（不包含）结束，元素x在列表a中出现的位置(只统计第一次出现)\n",
    "print(a.index(2,1,7))\n",
    "\n",
    "print(\"*\" * 10)\n",
    "\n",
    "# reverse将整个列表顺序颠倒\n",
    "a = [1,2,3,5,4,3,2,2,1]\n",
    "print(a.reverse()) # reverse的返回值是None\n",
    "print(a) # 但其实列表a已经被改变了\n",
    "\n",
    "print(\"*\" * 10)\n",
    "\n",
    "# sort对列表中的元素进行排序\n",
    "a = [1,2,3,5,4,3,2,2,1]\n",
    "# 默认是从小到大排序\n",
    "print(a.sort()) # sort函数的返回值是None\n",
    "print(a) # 列表被更改了\n",
    "# sort可以设定参数reverse，默认reverse=False表示从小到大排序，如果设定为True表示从大到小排序\n",
    "a = [1,2,3,5,4,3,2,2,1]\n",
    "a.sort(reverse=True)\n",
    "print(a)\n",
    "# sort还可以设定比较的“键”（key），key用来给每个元素都生成一个用来比较大小的值\n",
    "a = [1,2,3,5,4,3,2,2,1]\n",
    "# 这里设定为比较列表中每个元素的sin值\n",
    "import math\n",
    "key = math.sin\n",
    "a.sort(key=key)\n",
    "print(a)\n",
    "# 比较每个元素的长度\n",
    "b = ['python','ruby','c','c++','swift']\n",
    "key = len\n",
    "b.sort(key=key,reverse=True)\n",
    "print(b)"
   ]
  },
  {
   "cell_type": "markdown",
   "metadata": {},
   "source": [
    "### 元组（tuple）\n",
    "* 意思：最小的数据\n",
    "* 创建：圆括号+元素/tuple()\n",
    "* 有序，众多功能与list类似\n",
    "* 一旦创建就不能更改：\n",
    "    * 相当于去掉了增删改功能的列表\n",
    "    * 为了数据安全，防止误操作\n",
    "    * 实现函数的多重返回值\n",
    "* 唯一能取hash的容器"
   ]
  },
  {
   "cell_type": "code",
   "execution_count": 41,
   "metadata": {},
   "outputs": [
    {
     "name": "stdout",
     "output_type": "stream",
     "text": [
      "(1, 2, 3, 4) <class 'tuple'>\n",
      "(2, 6, 10, 14, 18) <class 'tuple'>\n",
      "2\n"
     ]
    },
    {
     "ename": "TypeError",
     "evalue": "'tuple' object does not support item assignment",
     "output_type": "error",
     "traceback": [
      "\u001b[1;31m---------------------------------------------------------------------------\u001b[0m",
      "\u001b[1;31mTypeError\u001b[0m                                 Traceback (most recent call last)",
      "\u001b[1;32m~\\AppData\\Local\\Temp/ipykernel_27256/1308905306.py\u001b[0m in \u001b[0;36m<module>\u001b[1;34m\u001b[0m\n\u001b[0;32m      7\u001b[0m \u001b[1;33m\u001b[0m\u001b[0m\n\u001b[0;32m      8\u001b[0m \u001b[0mprint\u001b[0m\u001b[1;33m(\u001b[0m\u001b[0mA\u001b[0m\u001b[1;33m[\u001b[0m\u001b[1;36m1\u001b[0m\u001b[1;33m]\u001b[0m\u001b[1;33m)\u001b[0m \u001b[1;31m# 可访问\u001b[0m\u001b[1;33m\u001b[0m\u001b[1;33m\u001b[0m\u001b[0m\n\u001b[1;32m----> 9\u001b[1;33m \u001b[0mA\u001b[0m\u001b[1;33m[\u001b[0m\u001b[1;36m1\u001b[0m\u001b[1;33m]\u001b[0m \u001b[1;33m=\u001b[0m \u001b[1;36m5\u001b[0m \u001b[1;31m# 不可修改\u001b[0m\u001b[1;33m\u001b[0m\u001b[1;33m\u001b[0m\u001b[0m\n\u001b[0m",
      "\u001b[1;31mTypeError\u001b[0m: 'tuple' object does not support item assignment"
     ]
    }
   ],
   "source": [
    "A = (1, 2, 3, 4)\n",
    "print(A, type(A))\n",
    "\n",
    "# 也用构造函数tuple()新建元组\n",
    "t = tuple(range(2,20,4))\n",
    "print(t, type(t))\n",
    "\n",
    "print(A[1]) # 可访问\n",
    "A[1] = 5 # 不可修改"
   ]
  },
  {
   "cell_type": "markdown",
   "metadata": {},
   "source": [
    "### 什么时候使用元组？\n",
    "* 事实上，元组的功能比列表弱了不少，用元组的地方，用列表基本上也没啥问题。\n",
    "* 那为什么我们还需要元组这个类型呢？主要是为了安全。元组相当于不能**增删改**的列表。\n",
    "* 如果你生成了一个并不希望别人修改的有序对象那么最好使用元组，以保证安全。"
   ]
  },
  {
   "cell_type": "markdown",
   "metadata": {},
   "source": [
    "### 字典（dict）\n",
    "* 创建：{key: value}\n",
    "* 可以用构造函数dict()，传入多个列表或元组构成的键值对\n",
    "* 可以存储任意对象\n",
    "* 无序，按key值访问元素\n",
    "* 可以对不存在的key赋值\n",
    "* 字典值可以是Python的任意对象，但key要求：\n",
    "    * 必须不可变\n",
    "    * 不可重复"
   ]
  },
  {
   "cell_type": "code",
   "execution_count": 42,
   "metadata": {
    "scrolled": true
   },
   "outputs": [
    {
     "data": {
      "text/plain": [
       "90"
      ]
     },
     "execution_count": 42,
     "metadata": {},
     "output_type": "execute_result"
    }
   ],
   "source": [
    "msg = {\n",
    "    \"张三\": 90, \n",
    "    \"李四\": 94, \n",
    "    \"王五\":100\n",
    "}\n",
    "# 靠 键-值 关联来访问字典的内容\n",
    "msg[\"张三\"]"
   ]
  },
  {
   "cell_type": "code",
   "execution_count": 43,
   "metadata": {},
   "outputs": [
    {
     "name": "stdout",
     "output_type": "stream",
     "text": [
      "{'张三': 80, '李四': 92, 'Alice': 85, 'Bob': 78, 2233: 68.5}\n",
      "{'甲': 65, '乙': 55}\n",
      "{'丙': 95, '丁': 59}\n"
     ]
    }
   ],
   "source": [
    "# 其他创建字典的方式\n",
    "mylist = [('张三', 80), ('李四', 92), ('Alice', 85), ('Bob', 78), (2233, 68.5)]\n",
    "mydict = dict(mylist)\n",
    "print(mydict)\n",
    "# 传入一个元组\n",
    "mytuple = (('甲',65),('乙',55))\n",
    "mydict_2 = dict(mytuple)\n",
    "print(mydict_2)\n",
    "# 使用关键字参数，注意关键字不能使用表达式\n",
    "# 例如在下面的例子中，人名不加引号才是正确的\n",
    "mydict_3 = dict(丙=95, 丁=59)\n",
    "print(mydict_3)"
   ]
  },
  {
   "cell_type": "markdown",
   "metadata": {},
   "source": [
    "#### 字典增删改(最常用)\n",
    "* 基于key：\n",
    "    * 访问键值对\n",
    "    * 增加键值对\n",
    "    * 删除键值对\n",
    "    * 修改键值对\n",
    "    * 判断键值对是否存在"
   ]
  },
  {
   "cell_type": "code",
   "execution_count": 44,
   "metadata": {},
   "outputs": [
    {
     "name": "stdout",
     "output_type": "stream",
     "text": [
      "{'张三': 91, '李四': 94, '王五': 100}\n"
     ]
    }
   ],
   "source": [
    "# msg[\"甲\"] = 80\n",
    "# print(msg)\n",
    "# del msg[\"甲\"] # 使用del删除key，同时也把key:value对删掉了\n",
    "# print(msg)\n",
    "msg[\"张三\"] = 91 # 通过赋值操作，直接修改已经存在的key:value对\n",
    "print(msg)"
   ]
  },
  {
   "cell_type": "markdown",
   "metadata": {},
   "source": [
    "* <font color=red>补充：</font>使用in或not in，可以判断某个key是否存在"
   ]
  },
  {
   "cell_type": "code",
   "execution_count": 45,
   "metadata": {},
   "outputs": [
    {
     "name": "stdout",
     "output_type": "stream",
     "text": [
      "True\n",
      "False\n"
     ]
    }
   ],
   "source": [
    "print('张三' in mydict)\n",
    "print('李四' not in mydict)"
   ]
  },
  {
   "cell_type": "markdown",
   "metadata": {},
   "source": [
    "#### 其他常用方法\n",
    "* clear：清空一个字典所有的键值对\n",
    "* get：类似直接通过键来访问字典，但若遇到不存在的key，直接通过键会报错，get会返回None但不会报错\n",
    "* update：用一个字典所包含的所有key:value对来更新另一个字典，若被更新的字典存在同样的key，这个key对应的value会被覆盖\n",
    "* items(), keys(), values()获取字典所有的键值对，所有的键，所有的值\n",
    "* <font color=red>补充：</font>pop方法用于获取指定的key对应的value，并且把这个key:value对删去"
   ]
  },
  {
   "cell_type": "code",
   "execution_count": 46,
   "metadata": {},
   "outputs": [
    {
     "name": "stdout",
     "output_type": "stream",
     "text": [
      "{'张三': 80, '李四': 92, 'Alice': 85, 'Bob': 78, 2233: 68.5}\n",
      "{}\n"
     ]
    }
   ],
   "source": [
    "# clear\n",
    "d = {'张三': 80, '李四': 92, 'Alice': 85, 'Bob': 78, 2233: 68.5}\n",
    "print(d)\n",
    "d.clear()\n",
    "print(d)"
   ]
  },
  {
   "cell_type": "code",
   "execution_count": 47,
   "metadata": {},
   "outputs": [
    {
     "name": "stdout",
     "output_type": "stream",
     "text": [
      "78\n",
      "None\n"
     ]
    }
   ],
   "source": [
    "# get\n",
    "d = {'张三': 80, '李四': 92, 'Alice': 85, 'Bob': 78, 2233: 68.5}\n",
    "print(d.get('Bob'))\n",
    "print(d.get('Clark'))"
   ]
  },
  {
   "cell_type": "code",
   "execution_count": 48,
   "metadata": {},
   "outputs": [
    {
     "name": "stdout",
     "output_type": "stream",
     "text": [
      "{'张三': 80, '李四': 92, 'Alice': 85, 'Bob': 78, 2233: 68.5, '甲': 65, '乙': 55, '丙': 66, '丁': 95, '戊': 59}\n"
     ]
    }
   ],
   "source": [
    "# update\n",
    "d1 = {'张三': 80, '李四': 92, 'Alice': 85, 'Bob': 78, 2233: 68.5}\n",
    "d2 = {'甲': 65, '乙': 55, '丙' : 66,'丁': 95, '戊': 59}\n",
    "d1.update(d2)\n",
    "print(d1)"
   ]
  },
  {
   "cell_type": "code",
   "execution_count": 49,
   "metadata": {
    "scrolled": false
   },
   "outputs": [
    {
     "name": "stdout",
     "output_type": "stream",
     "text": [
      "dict_items([('张三', 80), ('李四', 92), ('Alice', 85), ('Bob', 78), (2233, 68.5)])\n",
      "[('张三', 80), ('李四', 92), ('Alice', 85), ('Bob', 78), (2233, 68.5)]\n",
      "dict_keys(['张三', '李四', 'Alice', 'Bob', 2233])\n",
      "['张三', '李四', 'Alice', 'Bob', 2233]\n",
      "dict_values([80, 92, 85, 78, 68.5])\n",
      "[80, 92, 85, 78, 68.5]\n"
     ]
    }
   ],
   "source": [
    "# items()，keys()，values()\n",
    "d = {'张三': 80, '李四': 92, 'Alice': 85, 'Bob': 78, 2233: 68.5}\n",
    "print(d.items()) # 返回值是特殊的dict_items类型\n",
    "print(list(d.items())) # 转换为list类型\n",
    "print(d.keys()) # 返回值是特殊的dict_keys类型\n",
    "print(list(d.keys())) # 转换为list类型\n",
    "print(d.values()) # 返回值是特殊的dict_values类型\n",
    "print(list(d.values())) # 转换为list类型"
   ]
  },
  {
   "cell_type": "code",
   "execution_count": 50,
   "metadata": {
    "scrolled": true
   },
   "outputs": [
    {
     "name": "stdout",
     "output_type": "stream",
     "text": [
      "{'张三': 80, '李四': 92, 'Alice': 85, 'Bob': 78, 2233: 68.5}\n",
      "78\n",
      "{'张三': 80, '李四': 92, 'Alice': 85, 2233: 68.5}\n"
     ]
    }
   ],
   "source": [
    "# pop\n",
    "d = {'张三': 80, '李四': 92, 'Alice': 85, 'Bob': 78, 2233: 68.5}\n",
    "print(d)\n",
    "print(d.pop('Bob'))\n",
    "print(d)"
   ]
  },
  {
   "cell_type": "markdown",
   "metadata": {},
   "source": [
    "### 集合(set)\n",
    "* 用来记录无顺序、不可变对象是否存在其中\n",
    "* 不能重复，可以混搭\n",
    "* 空集合只能用set()创建，指定的用{}创建\n",
    "* 可以检测两个列表中的元素是否相同"
   ]
  },
  {
   "cell_type": "code",
   "execution_count": 51,
   "metadata": {},
   "outputs": [
    {
     "name": "stdout",
     "output_type": "stream",
     "text": [
      "{'lisi', 'zhangsan', 'wangermazi'}\n",
      "{1, 2, 3}\n",
      "<class 'set'>\n",
      "<class 'dict'>\n"
     ]
    }
   ],
   "source": [
    "# 创建集合:\n",
    "A = {'zhangsan','lisi','wangermazi'}\n",
    "B = set([1,2,3])\n",
    "print(A)\n",
    "print(B)\n",
    "# 空集合只能用set()创建，{}创建的是空字典\n",
    "C = set()\n",
    "D = {}\n",
    "print(type(C))\n",
    "print(type(D))"
   ]
  },
  {
   "cell_type": "code",
   "execution_count": 52,
   "metadata": {},
   "outputs": [
    {
     "name": "stdout",
     "output_type": "stream",
     "text": [
      "True\n"
     ]
    }
   ],
   "source": [
    "# 检测两个列表中的元素是否相同\n",
    "L1 = [1,2,3]\n",
    "L2 = [1,2,3]\n",
    "print(set(L1)==set(L2))"
   ]
  },
  {
   "cell_type": "markdown",
   "metadata": {},
   "source": [
    "#### 集合相关操作\n",
    "* 增：add\n",
    "* 删：pop/remove\n",
    "* update()方法：把传入的元素拆分，作为个体传入到集合中\n",
    "* 集合运算\n",
    "    * 并集：`a | b`\n",
    "    * 交集：`a & b`\n",
    "    * 差集：`a - b`"
   ]
  },
  {
   "cell_type": "code",
   "execution_count": 53,
   "metadata": {},
   "outputs": [
    {
     "name": "stdout",
     "output_type": "stream",
     "text": [
      "b:  {0, 1, 2, 3, 4, 5, 6, 7, 8, 9}\n",
      "d:  {0, 2, 4, 6}\n",
      "并集： {0, 1, 2, 3, 4, 5, 6, 7, 8, 9}\n",
      "交集： {0, 2, 4, 6}\n",
      "差集： {1, 3, 5, 7, 8, 9}\n",
      "差集： set()\n"
     ]
    }
   ],
   "source": [
    "a = [1, 2, 2, 2, 3, 3, 4, 5, 6, 7, 8, 9, 0]\n",
    "b = set(a)\n",
    "print(\"b: \", b)\n",
    "c = [0, 2, 4, 6]\n",
    "d = set(c)\n",
    "print(\"d: \", d)\n",
    "print(\"并集：\", b | d)\n",
    "print(\"交集：\", b & d)\n",
    "print(\"差集：\", b - d)\n",
    "print(\"差集：\", d - b)"
   ]
  },
  {
   "cell_type": "markdown",
   "metadata": {},
   "source": [
    "---"
   ]
  },
  {
   "cell_type": "markdown",
   "metadata": {},
   "source": [
    "## 流程控制\n",
    "* 顺序结构：程序自上而下一条一条执行，不需要特殊的流程控制结构\n",
    "* 分支结构：根据条件选择后面要执行的代码`if`\n",
    "* 循环结构：根据条件重复执行同一段代码`while`，`for`，还提供循环跳出机制`break`，`continue`"
   ]
  },
  {
   "cell_type": "markdown",
   "metadata": {},
   "source": [
    "* if语句：\n",
    "    * 可单独用\n",
    "    * 加else\n",
    "    * 加elif\n",
    "    * 可作为表达式"
   ]
  },
  {
   "cell_type": "code",
   "execution_count": null,
   "metadata": {},
   "outputs": [],
   "source": [
    "if xxx:\n",
    "    pass\n",
    "\n",
    "if xx:\n",
    "    xxx\n",
    "else:\n",
    "    xxx\n",
    "    \n"
   ]
  },
  {
   "cell_type": "markdown",
   "metadata": {},
   "source": [
    "* `for`：\n",
    "    * `for`循环用于遍历任何可迭代对象（可迭代对象是指定义了`iter`方法，并且返回的对象有`next()`方法），例如列表、元组、字符串等。\n",
    "    * 也可以写成表达式\n",
    "* `while`;\n",
    "    * 每执行一次都会判断表达式值是否为真，如果为真就不停地循环，如果为假就停止"
   ]
  },
  {
   "cell_type": "code",
   "execution_count": 54,
   "metadata": {
    "scrolled": true
   },
   "outputs": [
    {
     "name": "stdout",
     "output_type": "stream",
     "text": [
      "5\n",
      "10\n",
      "5\n",
      "5\n",
      "0\n",
      "5\n",
      "5\n",
      "5\n",
      "5\n",
      "5\n"
     ]
    }
   ],
   "source": [
    "for i in range(0, 10):\n",
    "    if i == 1:\n",
    "        print(10)\n",
    "    elif i == 4:\n",
    "        print(0)\n",
    "    else:\n",
    "        print(5)"
   ]
  },
  {
   "cell_type": "code",
   "execution_count": 55,
   "metadata": {
    "scrolled": true
   },
   "outputs": [
    {
     "name": "stdout",
     "output_type": "stream",
     "text": [
      "0\n",
      "1\n",
      "8\n",
      "27\n",
      "64\n",
      "125\n",
      "216\n",
      "343\n",
      "512\n",
      "729\n"
     ]
    }
   ],
   "source": [
    "for i in range(10):\n",
    "    print(i ** 2 if i == 1 else i ** 3)"
   ]
  },
  {
   "cell_type": "markdown",
   "metadata": {},
   "source": [
    "### 循环控制语句\n",
    "* `break`跳出当前循环\n",
    "* `continue`忽略循环后面部分，开始下一轮循环\n",
    "* `pass`继续执行，常用来占坑"
   ]
  },
  {
   "cell_type": "code",
   "execution_count": 56,
   "metadata": {},
   "outputs": [
    {
     "name": "stdout",
     "output_type": "stream",
     "text": [
      "0 0\n",
      "0 1\n",
      "0 2\n",
      "0 3\n",
      "break!\n",
      "1 0\n",
      "1 1\n",
      "1 2\n",
      "1 3\n",
      "break!\n",
      "2 0\n",
      "2 1\n",
      "2 2\n",
      "2 3\n",
      "break!\n"
     ]
    }
   ],
   "source": [
    "# break\n",
    "for j in range(3):\n",
    "    for i in range(5):\n",
    "        print(j,i)\n",
    "        if i == 3:\n",
    "            print('break!')\n",
    "            break"
   ]
  },
  {
   "cell_type": "code",
   "execution_count": 57,
   "metadata": {},
   "outputs": [
    {
     "name": "stdout",
     "output_type": "stream",
     "text": [
      "0\n",
      "Do something...\n",
      "Do somethine else...\n",
      "1\n",
      "Do something...\n",
      "Do somethine else...\n",
      "2\n",
      "Do something...\n",
      "Do somethine else...\n",
      "3\n",
      "Do something...\n",
      "continue!\n",
      "4\n",
      "Do something...\n",
      "Do somethine else...\n"
     ]
    }
   ],
   "source": [
    "# continue\n",
    "for i in range(5):\n",
    "    print(i)\n",
    "    print('Do something...')\n",
    "    if i == 3:\n",
    "        print('continue!')\n",
    "        continue\n",
    "    print('Do somethine else...')"
   ]
  },
  {
   "cell_type": "code",
   "execution_count": 58,
   "metadata": {},
   "outputs": [
    {
     "name": "stdout",
     "output_type": "stream",
     "text": [
      "0\n",
      "Do something...\n",
      "Do somethine else...\n",
      "1\n",
      "Do something...\n",
      "Do somethine else...\n",
      "2\n",
      "Do something...\n",
      "Do somethine else...\n",
      "3\n",
      "Do something...\n",
      "pass!\n",
      "Do somethine else...\n",
      "4\n",
      "Do something...\n",
      "Do somethine else...\n"
     ]
    }
   ],
   "source": [
    "# pass 占坑\n",
    "for i in range(5):\n",
    "    print(i)\n",
    "    print('Do something...')\n",
    "    if i == 3:\n",
    "        print('pass!')\n",
    "        pass\n",
    "    print('Do somethine else...')"
   ]
  },
  {
   "cell_type": "markdown",
   "metadata": {},
   "source": [
    "### 常用工具函数\n",
    "* `enumerate`：在循环体内可以同时使用索引值idx和元素item\n",
    "* `zip`：多个列表打包成一个列表\n",
    "* `reversed`：反向遍历列表"
   ]
  },
  {
   "cell_type": "code",
   "execution_count": 1,
   "metadata": {},
   "outputs": [
    {
     "name": "stdout",
     "output_type": "stream",
     "text": [
      "0 3\n",
      "1 4\n",
      "2 5\n",
      "3 6\n",
      "4 7\n",
      "5 8\n",
      "6 9\n",
      "7 0\n",
      "********\n",
      "<zip object at 0x000002AD94ACB1C0> <class 'zip'>\n",
      "1 3\n",
      "2 4\n",
      "3 5\n",
      "4 6\n",
      "5 7\n",
      "6 8\n",
      "7 9\n",
      "8 0\n",
      "********\n",
      "0\n",
      "9\n",
      "8\n",
      "7\n",
      "6\n",
      "5\n",
      "4\n",
      "3\n"
     ]
    }
   ],
   "source": [
    "a1 = [1, 2, 3, 4, 5, 6, 7, 8]\n",
    "a2 = [3, 4, 5, 6, 7, 8, 9, 0]\n",
    "# enumerate:\n",
    "for i, v in enumerate(a2):\n",
    "    print(i, v)\n",
    "print(\"*\" * 8)\n",
    "# zip\n",
    "for a11, a22 in zip(a1, a2):\n",
    "    print(a11, a22)\n",
    "print(\"*\" * 8)\n",
    "# reversed\n",
    "for a22 in reversed(a2):\n",
    "    print(a22)"
   ]
  },
  {
   "cell_type": "markdown",
   "metadata": {},
   "source": [
    "## 函数\n",
    "* 可重复执行一定任务的代码片段，具有独立的固定的输入输出接口\n",
    "* 目的：重复使用代码\n",
    "* 定义：\n",
    "    * 需要实现什么功能？——决定函数内代码写什么\n",
    "    * 需要从外部输出哪些动态变化的数据？-——决定函数参数该如何定义\n",
    "    * 需要向外部提供哪些结果？——决定函数返回值该如何定义\n",
    "* 语法格式：\n",
    "    `def 函数名(形参列表):\n",
    "        可执行语句\n",
    "        return 返回值\n",
    "* 函数名：\n",
    "    * 只要是合法的的标识符即可\n",
    "    * 可读性\n",
    "* 形参列表：\n",
    "    * 在函数名后面的括号（括号不可省略）里，多个形参用逗号分隔\n",
    "    * 参数可以有默认值（用`=`直接指定），也可以无默认值\n",
    "* 返回值：\n",
    "    * 返回值可以是0-n个，用逗号分隔（0的时候可以不用谢rerturn）\n",
    "    * 返回值可以是表达式"
   ]
  },
  {
   "cell_type": "code",
   "execution_count": null,
   "metadata": {},
   "outputs": [],
   "source": []
  },
  {
   "cell_type": "markdown",
   "metadata": {},
   "source": [
    "## 文件操作\n",
    "* 内置的open()函数，用于读写指定文件。语法格式：\n",
    "    ```\n",
    "open(file_name[, access_mode][, buffering][, encoding])\n",
    "```\n",
    "\n",
    "* file_name：字符串，表示文件名。可以是绝对路径也可以是相对路径。open函数只有这一个必须的参数。\n",
    "* access_mode：读写模式，有只读，写入，追加等。如果不给这个参数，默认为只读模式，不会更改文件内容。\n",
    "* buffering：缓冲区大小，单位是字节。默认为0，不带缓冲。\n",
    "* encoding：文件编码，默认为None。二进制文件不需要设定。文本文件默认为当前系统的编码。若文件的编码和系统编码不一致，则需要设定。\n",
    "\n",
    "open函数还有许多参数，在此不一一赘述了，请使用help函数查看帮助。"
   ]
  },
  {
   "cell_type": "markdown",
   "metadata": {},
   "source": [
    "open函数返回一个文件对象（一般起名叫f或者file，也可以起别的名字），这个对象常用的属性有：\n",
    "* file.closed：文件是否已关闭\n",
    "* file.mode：文件的打开模式（读写，只读等）\n",
    "* file.name：文件名"
   ]
  },
  {
   "cell_type": "markdown",
   "metadata": {},
   "source": [
    "### 文件打开模式\n",
    "模式 | 意义\n",
    "-- | --\n",
    "r | 只读模式。不改动，只读取。如果文件不存在会报错，不会新建文件。\n",
    "w | 写模式。只能写入，文件原有内容会被全部破坏。如果存在同名文件会将其清空，如果文件不存在会自动新建。\n",
    "a | 追加模式。只能写入，文件原有内容不动，新内容在文件结尾追加。如果文件不存在会自动新建。\n",
    "r+ | 读写模式。既能读取又能写入。文件原有内容不会清空，但会从头开始覆盖。如果文件不存在会报错，不会自动新建。\n",
    "w+ | 读写模式。但文件原有内容会被立刻清空，实际上读不到东西。如果文件不存在会自动新建。\n",
    "a+ | 读写模式。既能读取又能写入。文件原有内容不会清空，新内容会追加在结尾。如果文件不存在会自动新建。\n",
    "+ | 读写模式，和其他模式混合使用，例如r+表示读写，a+也代表读写。\n",
    "b | 二进制模式，和其他模式混合使用。例如rb表示二进制只读，rb+代表二进制读写，ab代表二进制追加。"
   ]
  },
  {
   "cell_type": "markdown",
   "metadata": {},
   "source": [
    "### 读取文件\n",
    "两种方法：\n",
    "* file.read(): 按字节或字符读取，支持读取文本文件和二进制文件。read的参数是一次读取的字节或字符数量。\n",
    "* file.readline() 或 file.readlines(): 按行读取，只能读取文本文件。\n",
    "    * readline是一次读取一行，返回字符串。\n",
    "    * readlines是一次读取所有行并返回列表，列表中的每个元素是一个字符串。\n",
    "* python提供了`with`语句来自动维护资源的打开和关闭。把打开文件操作放在with语句内部，打开之后要做的事情放在with之后的语句块中，with就会自动帮我们安全关闭文件。"
   ]
  },
  {
   "cell_type": "code",
   "execution_count": null,
   "metadata": {},
   "outputs": [],
   "source": []
  },
  {
   "cell_type": "markdown",
   "metadata": {},
   "source": [
    "## 新建环境与包管理\n",
    "* 新建环境指令（进阶）：\n",
    "    * `conda create -n myenv python=3.8`\n",
    "    * `conda activate myenv`\n",
    "    * 用别的路径：加上参数`--prefix=xxx`\n",
    "* 切换/删除环境（进阶）：\n",
    "    * `conda deactivate myenv`\n",
    "    * `conda env remove -n myenv`\n",
    "* 换源（进阶）：mirrors.tuna.tsinghua.edu.cn/help/anaconda/ \n",
    "* 安装软件包：\n",
    "    * `conda install xxx`\n",
    "    * `conda install -c conda-forge xxx`\n",
    "* 查看环境：\n",
    "    * 查看有哪些环境：`conda env list`\n",
    "    * 查看环境下安装了哪些包：`conda list`\n",
    "* 如若出现打不开`jupyter notebook`：https://blog.csdn.net/iteapoy/article/details/103532358"
   ]
  },
  {
   "cell_type": "markdown",
   "metadata": {},
   "source": [
    "* 综合函数、循环、导入random包函数的例子，大家也可以修修改改，综合上面其他没提到的内容练习一下"
   ]
  },
  {
   "cell_type": "code",
   "execution_count": 2,
   "metadata": {},
   "outputs": [
    {
     "ename": "FileNotFoundError",
     "evalue": "[Errno 2] No such file or directory: 'student_msg.txt'",
     "output_type": "error",
     "traceback": [
      "\u001b[1;31m---------------------------------------------------------------------------\u001b[0m",
      "\u001b[1;31mFileNotFoundError\u001b[0m                         Traceback (most recent call last)",
      "\u001b[1;32m<ipython-input-2-9bf7ad0c23be>\u001b[0m in \u001b[0;36m<module>\u001b[1;34m\u001b[0m\n\u001b[0;32m      3\u001b[0m \u001b[1;33m\u001b[0m\u001b[0m\n\u001b[0;32m      4\u001b[0m \u001b[0mdata\u001b[0m \u001b[1;33m=\u001b[0m \u001b[1;33m[\u001b[0m\u001b[1;33m]\u001b[0m\u001b[1;33m\u001b[0m\u001b[1;33m\u001b[0m\u001b[0m\n\u001b[1;32m----> 5\u001b[1;33m \u001b[1;32mwith\u001b[0m \u001b[0mopen\u001b[0m\u001b[1;33m(\u001b[0m\u001b[1;34m\"student_msg.txt\"\u001b[0m\u001b[1;33m,\u001b[0m \u001b[1;34m'r'\u001b[0m\u001b[1;33m,\u001b[0m \u001b[0mencoding\u001b[0m\u001b[1;33m=\u001b[0m\u001b[1;34m'utf-8'\u001b[0m\u001b[1;33m)\u001b[0m \u001b[1;32mas\u001b[0m \u001b[0mf\u001b[0m\u001b[1;33m:\u001b[0m \u001b[1;31m# gkb\u001b[0m\u001b[1;33m\u001b[0m\u001b[1;33m\u001b[0m\u001b[0m\n\u001b[0m\u001b[0;32m      6\u001b[0m     \u001b[0mlines\u001b[0m \u001b[1;33m=\u001b[0m \u001b[0mf\u001b[0m\u001b[1;33m.\u001b[0m\u001b[0mread\u001b[0m\u001b[1;33m(\u001b[0m\u001b[1;33m)\u001b[0m\u001b[1;33m.\u001b[0m\u001b[0msplitlines\u001b[0m\u001b[1;33m(\u001b[0m\u001b[1;33m)\u001b[0m\u001b[1;33m\u001b[0m\u001b[1;33m\u001b[0m\u001b[0m\n\u001b[0;32m      7\u001b[0m     \u001b[1;32mfor\u001b[0m \u001b[0mline\u001b[0m \u001b[1;32min\u001b[0m \u001b[0mlines\u001b[0m\u001b[1;33m:\u001b[0m\u001b[1;33m\u001b[0m\u001b[1;33m\u001b[0m\u001b[0m\n",
      "\u001b[1;31mFileNotFoundError\u001b[0m: [Errno 2] No such file or directory: 'student_msg.txt'"
     ]
    }
   ],
   "source": [
    "# 一个例子\n",
    "from random import randint\n",
    "\n",
    "data = []\n",
    "with open(\"student_msg.txt\", 'r', encoding='utf-8') as f: # gkb\n",
    "    lines = f.read().splitlines()\n",
    "    for line in lines:\n",
    "        line_split = line.split('\\t')\n",
    "        data.append(line_split)\n",
    "\n",
    "n = randint(0, len(data))\n",
    "print(data[n][0], data[n][1], \"\\t恭喜你!\")"
   ]
  },
  {
   "cell_type": "code",
   "execution_count": 61,
   "metadata": {
    "scrolled": true
   },
   "outputs": [
    {
     "name": "stdout",
     "output_type": "stream",
     "text": [
      "学七 乙 \t恭喜你!\n"
     ]
    }
   ],
   "source": [
    "def random_names(fp, delimiter_split='\\t'):\n",
    "    data = []\n",
    "    with open(fp, 'r', encoding='utf-8') as f: # gkb\n",
    "        lines = f.read().splitlines()\n",
    "        for line in lines:\n",
    "            line_split = line.split(delimiter_split)\n",
    "            data.append(line_split)\n",
    "\n",
    "    n = randint(0, len(data))\n",
    "    print(data[n][0], data[n][1], \"\\t恭喜你!\")\n",
    "#     return data[n][0], data[n][1]\n",
    "\n",
    "random_names(\"bnu.txt\", delimiter_split=',')\n"
   ]
  },
  {
   "cell_type": "markdown",
   "metadata": {},
   "source": [
    "## 面向对象（高阶）"
   ]
  },
  {
   "cell_type": "code",
   "execution_count": 62,
   "metadata": {},
   "outputs": [],
   "source": [
    "# 第一个面向对象程序，定义人类：一个关于人的类\n",
    "class Person:\n",
    "    ''' 定义一个人 '''\n",
    "    def __init__(self,name,age=0):\n",
    "        ''' 构造方法，定义与生俱来的两个属性，姓名和年龄 '''\n",
    "        self.name = name\n",
    "        self.age = age\n",
    "    def birthday(self):\n",
    "        ''' 定义实例方法，过生日 ''' # 定义一个实例方法\n",
    "        self.age += 1\n",
    "        print('%s%d岁啦，生日快乐!!!' % (self.name, self.age))\n",
    "    def open_mouth(self):\n",
    "        ''' 张嘴 '''\n",
    "        print('%s张嘴。' % self.name)\n",
    "    def chew(self):\n",
    "        ''' 咀嚼 '''\n",
    "        print('%s嚼一嚼。' % self.name)\n",
    "    def eat(self):\n",
    "        ''' 吃饭 ''' # 定义一个实例方法，依赖其他方法\n",
    "        self.open_mouth() # 在类定义中调用其它的方法，使用self.xxx的方式\n",
    "        self.chew()"
   ]
  },
  {
   "cell_type": "code",
   "execution_count": 63,
   "metadata": {
    "scrolled": true
   },
   "outputs": [
    {
     "name": "stdout",
     "output_type": "stream",
     "text": [
      "张三张嘴。\n",
      "张三嚼一嚼。\n",
      "张三嚼一嚼。\n"
     ]
    }
   ],
   "source": [
    "a = Person(\"张三\")\n",
    "a.name\n",
    "a.eat()\n",
    "Person.chew(a)"
   ]
  },
  {
   "cell_type": "code",
   "execution_count": 64,
   "metadata": {
    "scrolled": true
   },
   "outputs": [
    {
     "name": "stdout",
     "output_type": "stream",
     "text": [
      "张三1岁啦，生日快乐!!!\n"
     ]
    }
   ],
   "source": [
    "a.birthday()"
   ]
  },
  {
   "cell_type": "code",
   "execution_count": 65,
   "metadata": {
    "scrolled": true
   },
   "outputs": [
    {
     "name": "stdout",
     "output_type": "stream",
     "text": [
      "张三2岁啦，生日快乐!!!\n"
     ]
    }
   ],
   "source": [
    "a.birthday()"
   ]
  },
  {
   "cell_type": "code",
   "execution_count": null,
   "metadata": {},
   "outputs": [],
   "source": []
  },
  {
   "cell_type": "markdown",
   "metadata": {},
   "source": [
    "#### 国庆作业\n",
    "### 作业1-哥德巴赫猜想\n",
    "编写函数，接收一个偶数，输出两个素数，这两个素数之和等于原来的偶数。如果有两组以上，则全部输出（要求不重复）。\n",
    "在ipynb中撰写实验报告，格式如下：\n",
    "* 问题描述\n",
    "* 解题思路\n",
    "* 算法运行\n",
    "* 程序运行结果\n",
    "* 列出涉及到的Python知识点\n",
    "* 文件命名：学号-姓名-第3次作业-作业1.ipynb\n",
    "\n",
    "### 作业2-点云数据探索\n",
    "对点云数据”data.txt” ，利用python探索这是什么东西。\n",
    "* 自学**numpy/matplotlib**/seaborn包\n",
    "* 探索过程生成的图片或有关数据结论需要用python出\n",
    "* 猜测各列数据可能代表的含义\n",
    "* 可能会用到的：\n",
    "    > Notebook内存设置：https://www.drjamesfroggatt.com/python-and-neural-networks/iopub-data-rate-exceeded-the-notebook-server-will-temporarily-stop-sending-output-to-the-client-in-order-to-avoid-crashing-it/ \n",
    "    >\n",
    "    > 安装包无权限：以管理者身份打开Anaconda Powershell Prompt\n",
    "    > \n",
    "    > 一个雷：建议使用notepad++打开这个txt（多次安利，比记事本要好用很多），否则记事本可能会突然卡死\n",
    "    >\n",
    "    > 步骤提示：\n",
    "    >\n",
    "    > * 导入txt：使用`np.loadtxt('xxx.txt', delimiter='xxx')`进行导入\n",
    "    >\n",
    "    > * 生成随机数种子，提取部分位置的数据\n",
    "    >\n",
    "    > * 使用matplotlib库进行绘图和分析\n",
    "* 提交格式：学号-姓名-第3次作业-作业2.ipynb\n",
    "\n"
   ]
  },
  {
   "cell_type": "markdown",
   "metadata": {},
   "source": [
    "## 一个例子（一个例子，非答案）"
   ]
  },
  {
   "cell_type": "code",
   "execution_count": null,
   "metadata": {},
   "outputs": [],
   "source": [
    "import numpy as np\n",
    "import matplotlib.pyplot as plt\n",
    "\n",
    "d = np.loadtxt(\"data.txt\", delimiter=' ')\n",
    "rdc = np.random.random(size=d.shape[0]) < 0.1 # 提取随机产生的数据中值小于0.2的数据，你也可以替换成别的方式\n",
    "data = d[rdc]\n",
    "print(data.shape)"
   ]
  },
  {
   "cell_type": "code",
   "execution_count": null,
   "metadata": {},
   "outputs": [],
   "source": [
    "plt.scatter(data[:, 6], data[:, 5])\n",
    "plt.title(\"figure 1\")"
   ]
  },
  {
   "cell_type": "code",
   "execution_count": null,
   "metadata": {},
   "outputs": [],
   "source": [
    "plt.scatter(data[:, 4], data[:, 3], c=data[:, 0])"
   ]
  },
  {
   "cell_type": "markdown",
   "metadata": {},
   "source": [
    "### 其他\n",
    "总命名：学号-姓名-第x次作业（x为阿拉伯数字）\n",
    "\n",
    "提交格式：两个ipynb文件打包成.zip或.rar格式提交。\n",
    "\n",
    "提交至邮箱：liuhui7209@mail.bnu.edu.cn\n",
    "\n",
    "截止时间：10月14日（下下周四）10:00前，若过期不能上传请和我联系。最好提前完成，不要都到最后再做。\n"
   ]
  },
  {
   "cell_type": "code",
   "execution_count": null,
   "metadata": {},
   "outputs": [],
   "source": []
  }
 ],
 "metadata": {
  "kernelspec": {
   "display_name": "Python 3",
   "language": "python",
   "name": "python3"
  },
  "language_info": {
   "codemirror_mode": {
    "name": "ipython",
    "version": 3
   },
   "file_extension": ".py",
   "mimetype": "text/x-python",
   "name": "python",
   "nbconvert_exporter": "python",
   "pygments_lexer": "ipython3",
   "version": "3.8.3"
  }
 },
 "nbformat": 4,
 "nbformat_minor": 5
}
